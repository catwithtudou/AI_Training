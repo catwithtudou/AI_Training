{
 "cells": [
  {
   "cell_type": "code",
   "execution_count": 90,
   "metadata": {
    "collapsed": true
   },
   "outputs": [],
   "source": [
    "import os\n",
    "import csv\n",
    "import datetime\n",
    "import numpy as np\n",
    "import pandas as pd\n",
    "from sklearn.decomposition import PCA\n",
    "from sklearn.neighbors import KNeighborsClassifier"
   ]
  },
  {
   "cell_type": "code",
   "execution_count": 91,
   "outputs": [],
   "source": [
    "# 加载数据\n",
    "def opencsv():\n",
    "    # 使用 pandas 打开\n",
    "    data = pd.read_csv('train.csv')\n",
    "    data1 = pd.read_csv('test.csv')\n",
    "\n",
    "    train_data = data.values[0:, 1:]  # 读入全部训练数据,  [行，列]\n",
    "    train_label = data.values[0:, 0]  # 读取列表的第一列\n",
    "    test_data = data1.values[0:, 0:]  # 测试全部测试个数据\n",
    "    return train_data, train_label, test_data"
   ],
   "metadata": {
    "collapsed": false,
    "pycharm": {
     "name": "#%%\n"
    }
   }
  },
  {
   "cell_type": "code",
   "execution_count": 92,
   "outputs": [],
   "source": [
    "# 加载数据\n",
    "trainData, trainLabel, testData = opencsv()"
   ],
   "metadata": {
    "collapsed": false,
    "pycharm": {
     "name": "#%%\n"
    }
   }
  },
  {
   "cell_type": "code",
   "execution_count": 93,
   "outputs": [],
   "source": [
    "def dRPCA(x_train, x_test, COMPONENT_NUM):\n",
    "    print('=======降维处理=======')\n",
    "    arrayTrainData = np.array(x_train)\n",
    "    arrayTestData = np.array(x_test)\n",
    "    pca = PCA(n_components=COMPONENT_NUM, whiten=False)\n",
    "    pca.fit(trainData)\n",
    "    pcaTrainData = pca.transform(arrayTrainData)\n",
    "    pcaTestData = pca.transform(arrayTestData)\n",
    "\n",
    "    print('特征数量:%s' % pca.n_components_)\n",
    "    print('总方差占比:%s' % sum(pca.explained_variance_ratio_))\n",
    "    return pcaTrainData, pcaTestData, pca.n_components_"
   ],
   "metadata": {
    "collapsed": false,
    "pycharm": {
     "name": "#%%\n"
    }
   }
  },
  {
   "cell_type": "code",
   "execution_count": 94,
   "outputs": [
    {
     "name": "stdout",
     "output_type": "stream",
     "text": [
      "=======降维处理=======\n",
      "特征数量:43\n",
      "总方差占比:0.8003149736842471\n"
     ]
    }
   ],
   "source": [
    "# 特征工程\n",
    "trainDataPCA, testDataPCA, components = dRPCA(trainData, testData, 0.8)"
   ],
   "metadata": {
    "collapsed": false,
    "pycharm": {
     "name": "#%%\n"
    }
   }
  },
  {
   "cell_type": "code",
   "execution_count": 95,
   "outputs": [],
   "source": [
    "# knn\n",
    "def trainModelByKNN(data, label):\n",
    "    clf = KNeighborsClassifier()  # default 5\n",
    "    clf.fit(data, np.ravel(label))\n",
    "    return clf"
   ],
   "metadata": {
    "collapsed": false,
    "pycharm": {
     "name": "#%%\n"
    }
   }
  },
  {
   "cell_type": "code",
   "execution_count": 96,
   "outputs": [],
   "source": [
    "from sklearn.svm import SVC\n",
    "\n",
    "\n",
    "# svm\n",
    "def trainModelBySVM(data, label):\n",
    "    clf = SVC(C=4, kernel='rbf')\n",
    "    clf.fit(data, label)\n",
    "    return clf"
   ],
   "metadata": {
    "collapsed": false,
    "pycharm": {
     "name": "#%%\n"
    }
   }
  },
  {
   "cell_type": "code",
   "execution_count": 97,
   "outputs": [],
   "source": [
    "from sklearn.ensemble import RandomForestClassifier\n",
    "\n",
    "\n",
    "# random forest\n",
    "def trainModelByRF(data, label):\n",
    "    clf = RandomForestClassifier(\n",
    "        n_estimators=60,\n",
    "        oob_score=True,\n",
    "        max_depth=13, min_samples_split=120,\n",
    "        min_samples_leaf=20, max_features=7,\n",
    "        random_state=10,\n",
    "    )\n",
    "    clf.fit(data, label)\n",
    "    return clf"
   ],
   "metadata": {
    "collapsed": false,
    "pycharm": {
     "name": "#%%\n"
    }
   }
  },
  {
   "cell_type": "code",
   "execution_count": 98,
   "outputs": [],
   "source": [
    "from sklearn.neural_network import MLPClassifier\n",
    "\n",
    "\n",
    "# MLP\n",
    "def trainModelByCNN(data, label, components):\n",
    "    clf = MLPClassifier(\n",
    "        hidden_layer_sizes=(components,),\n",
    "        activation='relu',\n",
    "        alpha=0.0001,\n",
    "        learning_rate='constant',\n",
    "        learning_rate_init=0.001,\n",
    "        max_iter=200,\n",
    "        shuffle=True,\n",
    "        random_state=10,\n",
    "    )\n",
    "    clf.fit(data, label)\n",
    "    return clf"
   ],
   "metadata": {
    "collapsed": false,
    "pycharm": {
     "name": "#%%\n"
    }
   }
  },
  {
   "cell_type": "code",
   "execution_count": 99,
   "outputs": [],
   "source": [
    "# knn模型训练\n",
    "# clf = trainModelByKNN(trainDataPCA, trainLabel)\n",
    "# svm模型训练\n",
    "# clf = trainModelBySVM(trainDataPCA, trainLabel)\n",
    "# rf模型训练\n",
    "# clf = trainModelByRF(trainDataPCA, trainLabel)\n",
    "# cnn模型训练\n",
    "clf = trainModelByCNN(trainDataPCA, trainLabel, components)\n",
    "# 结果预测\n",
    "testLabel = clf.predict(testDataPCA)"
   ],
   "metadata": {
    "collapsed": false,
    "pycharm": {
     "name": "#%%\n"
    }
   }
  },
  {
   "cell_type": "code",
   "execution_count": 100,
   "outputs": [],
   "source": [
    "# 导出结果\n",
    "def saveResult(result, csvName):\n",
    "    with open(csvName, 'w', newline='') as myFile:\n",
    "        myWriter = csv.writer(myFile)\n",
    "        firstRows = ['ImageId', 'Label']\n",
    "        myWriter.writerow(firstRows)\n",
    "        index = 0\n",
    "        for i in result:\n",
    "            tmp = []\n",
    "            index = index + 1\n",
    "            tmp.append(index)\n",
    "            tmp.append(int(i))\n",
    "            myWriter.writerow(tmp)"
   ],
   "metadata": {
    "collapsed": false,
    "pycharm": {
     "name": "#%%\n"
    }
   }
  },
  {
   "cell_type": "code",
   "execution_count": 101,
   "outputs": [],
   "source": [
    "# knn结果导出\n",
    "# saveResult(testLabel, 'result_knn.csv')\n",
    "# svm结果导出\n",
    "# saveResult(testLabel, 'result_svm.csv')\n",
    "# rf结果导出\n",
    "# saveResult(testLabel, 'result_rf.csv')\n",
    "# cnn结果导出\n",
    "saveResult(testLabel, 'result_cnn.csv')"
   ],
   "metadata": {
    "collapsed": false,
    "pycharm": {
     "name": "#%%\n"
    }
   }
  },
  {
   "cell_type": "code",
   "execution_count": 101,
   "outputs": [],
   "source": [],
   "metadata": {
    "collapsed": false,
    "pycharm": {
     "name": "#%%\n"
    }
   }
  }
 ],
 "metadata": {
  "kernelspec": {
   "display_name": "Python 3",
   "language": "python",
   "name": "python3"
  },
  "language_info": {
   "codemirror_mode": {
    "name": "ipython",
    "version": 2
   },
   "file_extension": ".py",
   "mimetype": "text/x-python",
   "name": "python",
   "nbconvert_exporter": "python",
   "pygments_lexer": "ipython2",
   "version": "2.7.6"
  }
 },
 "nbformat": 4,
 "nbformat_minor": 0
}